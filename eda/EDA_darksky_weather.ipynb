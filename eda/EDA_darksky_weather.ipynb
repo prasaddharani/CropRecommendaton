{
 "cells": [
  {
   "cell_type": "code",
   "execution_count": 2,
   "metadata": {
    "collapsed": true
   },
   "outputs": [],
   "source": [
    "import requests\n",
    "import time\n",
    "import os\n",
    "from datetime import date, datetime, timedelta\n",
    "import pandas as pd\n",
    "import numpy as np"
   ]
  },
  {
   "cell_type": "code",
   "execution_count": 4,
   "metadata": {
    "collapsed": false
   },
   "outputs": [],
   "source": [
    "from matplotlib import pyplot as plt\n",
    "import seaborn as sns\n",
    "%matplotlib inline"
   ]
  },
  {
   "cell_type": "code",
   "execution_count": 5,
   "metadata": {
    "collapsed": false
   },
   "outputs": [],
   "source": [
    "from src.util_master_darksky_pull import *"
   ]
  },
  {
   "cell_type": "code",
   "execution_count": 6,
   "metadata": {
    "collapsed": true
   },
   "outputs": [],
   "source": [
    "def loadcounty(filename):\n",
    "    df = pd.read_csv(filename, index_col=None)\n",
    "    df.drop_duplicates()\n",
    "    return df"
   ]
  },
  {
   "cell_type": "code",
   "execution_count": 5,
   "metadata": {
    "collapsed": true
   },
   "outputs": [],
   "source": [
    "# def make_unixdate(xdate):\n",
    "#     # takes a timestamp and coverts it to unix time\n",
    "# #     print xdate.timetuple()\n",
    "#     myts = int(time.mktime(xdate.timetuple()))\n",
    "#     return myts"
   ]
  },
  {
   "cell_type": "markdown",
   "metadata": {},
   "source": [
    "# Set up variables"
   ]
  },
  {
   "cell_type": "code",
   "execution_count": 8,
   "metadata": {
    "collapsed": false
   },
   "outputs": [],
   "source": [
    "api_key = \"fill that in here\"\n",
    "lat = float(38.031651)\n",
    "lng = -float(106.234666)\n",
    "county = 'saguache'\n",
    "state = 'CO'\n",
    "# set generic string for darksky calls\n",
    "county_file = '../data/counties/county_lat_lng.csv'\n",
    "df = loadcounty(county_file)"
   ]
  },
  {
   "cell_type": "code",
   "execution_count": 10,
   "metadata": {
    "collapsed": false
   },
   "outputs": [],
   "source": [
    "syear = 2016\n",
    "smonth = 12\n",
    "sday = 01\n",
    "eyear = 2016\n",
    "emonth = 12\n",
    "eday = 03\n",
    "start_time = date(syear,smonth,sday)\n",
    "end_time = date(eyear,emonth,eday)\n",
    "myts = int(time.mktime(start_time.timetuple()))\n",
    "#setup daterange for datapulls\n",
    "mydates = pd.date_range(start_time, end_time, freq='D').tolist()"
   ]
  },
  {
   "cell_type": "code",
   "execution_count": 11,
   "metadata": {
    "collapsed": true
   },
   "outputs": [],
   "source": [
    "WEATHER_FILE = 'data/weather/weather_processed.csv'"
   ]
  },
  {
   "cell_type": "markdown",
   "metadata": {},
   "source": [
    "# Load up file for list of counties/zipcodes"
   ]
  },
  {
   "cell_type": "code",
   "execution_count": 12,
   "metadata": {
    "collapsed": false
   },
   "outputs": [
    {
     "name": "stdout",
     "output_type": "stream",
     "text": [
      "/Users/rew/git/a_capstone\r\n"
     ]
    }
   ],
   "source": [
    "!pwd"
   ]
  },
  {
   "cell_type": "code",
   "execution_count": null,
   "metadata": {
    "collapsed": false
   },
   "outputs": [],
   "source": [
    "county_df = df.loc[(df['USPS'] == 'CO')|(df['USPS'] == 'MT')|(df['USPS'] == 'ID')|(df['USPS'] == 'WY')]\n",
    "county_df.head()"
   ]
  },
  {
   "cell_type": "code",
   "execution_count": null,
   "metadata": {
    "collapsed": false
   },
   "outputs": [],
   "source": [
    "weather_df = pd.read_csv(WEATHER_FILE)\n",
    "col_dropme = ['visibility','windBearing','windSpeed','year.1','lat','long','precipProbability',\\\n",
    "              'pressure','windBearing']\n",
    "weather_df=weather_df.drop(col_dropme,axis=1);"
   ]
  },
  {
   "cell_type": "code",
   "execution_count": null,
   "metadata": {
    "collapsed": false
   },
   "outputs": [],
   "source": [
    "weather_df.head()"
   ]
  },
  {
   "cell_type": "code",
   "execution_count": null,
   "metadata": {
    "collapsed": false
   },
   "outputs": [],
   "source": [
    "!pwd"
   ]
  },
  {
   "cell_type": "code",
   "execution_count": null,
   "metadata": {
    "collapsed": false
   },
   "outputs": [],
   "source": [
    "weather_df.year.unique()"
   ]
  },
  {
   "cell_type": "code",
   "execution_count": null,
   "metadata": {
    "collapsed": false
   },
   "outputs": [],
   "source": [
    "state = county_df['USPS'][1]\n",
    "county = county_df['NAME'][1]\n",
    "lng = county_df['LONG'][1]\n",
    "lat = county_df['LAT'][1]"
   ]
  },
  {
   "cell_type": "code",
   "execution_count": null,
   "metadata": {
    "collapsed": false
   },
   "outputs": [],
   "source": [
    "len(county_df)   #*365*10/10000"
   ]
  },
  {
   "cell_type": "code",
   "execution_count": null,
   "metadata": {
    "collapsed": false
   },
   "outputs": [],
   "source": [
    "full_df = weather_df"
   ]
  },
  {
   "cell_type": "markdown",
   "metadata": {},
   "source": [
    "### Function below downloads all the weather information for each county/state above and saves it in a directory for later aggregation"
   ]
  },
  {
   "cell_type": "code",
   "execution_count": null,
   "metadata": {
    "collapsed": true
   },
   "outputs": [],
   "source": [
    "# function for loading the data from darksky webpae\n",
    "# for item in range(len(county_df)):\n",
    "#     full_df = weather_df\n",
    "#     state = county_df['USPS'][item]\n",
    "#     county = county_df['NAME'][item]\n",
    "#     lng = county_df['LONG'][item]\n",
    "#     lat = county_df['LAT'][item]\n",
    "\n",
    "#     for xd in mydates:\n",
    "#         utcday = make_unixdate(xd)  \n",
    "#         print xd.date(), utcday, state, county, round(lat,4), round(lng,4)\n",
    "#         day_df = pd.DataFrame(get_weather(api_key,lat,lng,state,county,xd))\n",
    "#         full_df = full_df.append(day_df)\n",
    "\n",
    "# f_name = 'data/darksky/'+ str(syear) + '-' +str(eyear) + '_' + state + county +'.csv' \n",
    "# print f_name\n",
    "# full_df.to_csv(f_name)"
   ]
  },
  {
   "cell_type": "code",
   "execution_count": null,
   "metadata": {
    "collapsed": false
   },
   "outputs": [],
   "source": [
    "g = sns.FacetGrid(weather_df, col='year')\n",
    "g.map(plt.hist, 'temperatureMax')"
   ]
  },
  {
   "cell_type": "code",
   "execution_count": null,
   "metadata": {
    "collapsed": true
   },
   "outputs": [],
   "source": [
    ""
   ]
  },
  {
   "cell_type": "code",
   "execution_count": null,
   "metadata": {
    "collapsed": true
   },
   "outputs": [],
   "source": [
    ""
   ]
  }
 ],
 "metadata": {
  "anaconda-cloud": {},
  "kernelspec": {
   "display_name": "Python [conda root]",
   "language": "python",
   "name": "conda-root-py"
  },
  "language_info": {
   "codemirror_mode": {
    "name": "ipython",
    "version": 2.0
   },
   "file_extension": ".py",
   "mimetype": "text/x-python",
   "name": "python",
   "nbconvert_exporter": "python",
   "pygments_lexer": "ipython2",
   "version": "2.7.12"
  }
 },
 "nbformat": 4,
 "nbformat_minor": 0
}